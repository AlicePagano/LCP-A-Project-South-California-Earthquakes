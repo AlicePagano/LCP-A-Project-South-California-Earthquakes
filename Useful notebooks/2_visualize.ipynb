{
 "cells": [
  {
   "cell_type": "markdown",
   "metadata": {},
   "source": [
    "# 2 - Visualization"
   ]
  },
  {
   "cell_type": "markdown",
   "metadata": {},
   "source": [
    "Visualize the process in space and/or time with suitable time series and/or 3D visualizations of the hypocenters. For instance, plot a space variable (a single coordinate or a nice linear combination of coordinates) as a function of time."
   ]
  },
  {
   "cell_type": "code",
   "execution_count": 2,
   "metadata": {},
   "outputs": [],
   "source": [
    "import pandas as pd\n",
    "import numpy as np\n",
    "import matplotlib.pyplot as plt\n",
    "from IPython.display import Image"
   ]
  },
  {
   "cell_type": "markdown",
   "metadata": {},
   "source": [
    "The Euclidean coordinates are derive from latitude, longitude and depth, which are define with respect to a reference ellipsoid.\n",
    "\n",
    "A reference ellipsoid is a mathematically defined surface that approximates the geoid. It is used as a preferred surface on which geodetic network computations are performed and point coordinates such as latitude, longitude, and elevation (or depth) are defined.\n",
    "\n",
    "For this purpose it is necessary to identify a zero meridian, which for Earth is usually the Prime Meridian.\n",
    "\n",
    "$\\lambda$ = longitude measures the rotational angle between the zero meridian and the measured point. By convention it is expressed in degrees ranging from $−180°$ to $+180°$.\n",
    "\n",
    "$\\phi$ = latitude measures how close to the poles or equator a point is along a meridian, and is represented as an angle from $−90°$ to $+90°$, where $0°$ is the equator. \n",
    "\n",
    "$h$ = ellipsoidal height of the point above or below the reference ellipsoid along its normal.\n",
    "\n",
    "If these coordinates are given, one can compute the geocentric rectangular coordinates of the point as follows:\n",
    "\n",
    "\\begin{aligned}X&={\\big (}N(\\phi )+h{\\big )}\\cos {\\phi }\\cos {\\lambda }\\\\Y&={\\big (}N(\\phi )+h{\\big )}\\cos {\\phi }\\sin {\\lambda }\\\\Z&=\\left({\\frac {b^{2}}{a^{2}}}N(\\phi )+h\\right)\\sin {\\phi }\\end{aligned}\n",
    "where\n",
    "\n",
    "$$N(\\phi )= \\frac {a^{2}} {\\sqrt {a^{2}\\cos ^{2}\\phi +b^{2}\\sin ^{2}\\phi}}$$\n",
    "and $a$ and $b$ are the equatorial radius (semi-major axis) and the polar radius (semi-minor axis), respectively. $N$ is the radius of curvature in the prime vertical.\n"
   ]
  },
  {
   "cell_type": "code",
   "execution_count": 2,
   "metadata": {},
   "outputs": [
    {
     "data": {
      "text/html": [
       "<img src=\"https://upload.wikimedia.org/wikipedia/commons/thumb/3/3e/WGS84_mean_Earth_radius.svg/440px-WGS84_mean_Earth_radius.svg.png\"/>"
      ],
      "text/plain": [
       "<IPython.core.display.Image object>"
      ]
     },
     "execution_count": 2,
     "metadata": {},
     "output_type": "execute_result"
    }
   ],
   "source": [
    "Image(url='https://upload.wikimedia.org/wikipedia/commons/thumb/3/3e/WGS84_mean_Earth_radius.svg/440px-WGS84_mean_Earth_radius.svg.png')\n",
    "\n",
    "#Image(url='https://www.e-education.psu.edu/geog862/sites/www.e-education.psu.edu.geog862/files/images/Lesson06/Ellipsoidal%20Heights.png')\n",
    "\n",
    "#Image(url='https://www.e-education.psu.edu/geog862/sites/www.e-education.psu.edu.geog862/files/images/Lesson06/Ellipsoidal%20Heights3.png')"
   ]
  },
  {
   "cell_type": "code",
   "execution_count": 3,
   "metadata": {},
   "outputs": [],
   "source": [
    "# Read data from file and make sure earthquakes are orderd by time\n",
    "\n",
    "df = pd.read_table(\"SouthCalifornia-1982-2011_Physics-of-Data.dat\",sep=\" \")"
   ]
  },
  {
   "cell_type": "code",
   "execution_count": 4,
   "metadata": {},
   "outputs": [
    {
     "ename": "ModuleNotFoundError",
     "evalue": "No module named 'pygeodesy'",
     "output_type": "error",
     "traceback": [
      "\u001b[0;31m---------------------------------------------------------------------------\u001b[0m",
      "\u001b[0;31mModuleNotFoundError\u001b[0m                       Traceback (most recent call last)",
      "\u001b[0;32m<ipython-input-4-84d945036115>\u001b[0m in \u001b[0;36m<module>\u001b[0;34m\u001b[0m\n\u001b[0;32m----> 1\u001b[0;31m \u001b[0;32mfrom\u001b[0m \u001b[0mpygeodesy\u001b[0m\u001b[0;34m.\u001b[0m\u001b[0mellipsoidalVincenty\u001b[0m \u001b[0;32mimport\u001b[0m \u001b[0mLatLon\u001b[0m\u001b[0;34m,\u001b[0m \u001b[0mCartesian\u001b[0m \u001b[0;31m# Package used to tranform cartesian coordinate into geographic coordinate\u001b[0m\u001b[0;34m\u001b[0m\u001b[0;34m\u001b[0m\u001b[0m\n\u001b[0m\u001b[1;32m      2\u001b[0m \u001b[0;34m\u001b[0m\u001b[0m\n\u001b[1;32m      3\u001b[0m \u001b[0mhw_pos\u001b[0m \u001b[0;34m=\u001b[0m \u001b[0;34m[\u001b[0m\u001b[0;34m-\u001b[0m\u001b[0;36m2507270\u001b[0m\u001b[0;34m,\u001b[0m\u001b[0;34m-\u001b[0m\u001b[0;36m4652320\u001b[0m\u001b[0;34m,\u001b[0m\u001b[0;36m3558770\u001b[0m\u001b[0;34m]\u001b[0m \u001b[0;31m# Hollywood position used as georeference\u001b[0m\u001b[0;34m\u001b[0m\u001b[0;34m\u001b[0m\u001b[0m\n\u001b[1;32m      4\u001b[0m \u001b[0mdf_min\u001b[0m \u001b[0;34m=\u001b[0m \u001b[0mnp\u001b[0m\u001b[0;34m.\u001b[0m\u001b[0marray\u001b[0m\u001b[0;34m(\u001b[0m\u001b[0mdf\u001b[0m\u001b[0;34m.\u001b[0m\u001b[0mloc\u001b[0m\u001b[0;34m[\u001b[0m\u001b[0mdf\u001b[0m\u001b[0;34m[\u001b[0m\u001b[0;34m'depth'\u001b[0m\u001b[0;34m]\u001b[0m \u001b[0;34m==\u001b[0m \u001b[0mdf\u001b[0m\u001b[0;34m[\u001b[0m\u001b[0;34m'depth'\u001b[0m\u001b[0;34m]\u001b[0m\u001b[0;34m.\u001b[0m\u001b[0mmin\u001b[0m\u001b[0;34m(\u001b[0m\u001b[0;34m)\u001b[0m\u001b[0;34m]\u001b[0m\u001b[0;34m)\u001b[0m\u001b[0;34m\u001b[0m\u001b[0;34m\u001b[0m\u001b[0m\n\u001b[1;32m      5\u001b[0m \u001b[0mdf_max\u001b[0m \u001b[0;34m=\u001b[0m \u001b[0mnp\u001b[0m\u001b[0;34m.\u001b[0m\u001b[0marray\u001b[0m\u001b[0;34m(\u001b[0m\u001b[0mdf\u001b[0m\u001b[0;34m.\u001b[0m\u001b[0mloc\u001b[0m\u001b[0;34m[\u001b[0m\u001b[0mdf\u001b[0m\u001b[0;34m[\u001b[0m\u001b[0;34m'depth'\u001b[0m\u001b[0;34m]\u001b[0m \u001b[0;34m==\u001b[0m \u001b[0mdf\u001b[0m\u001b[0;34m[\u001b[0m\u001b[0;34m'depth'\u001b[0m\u001b[0;34m]\u001b[0m\u001b[0;34m.\u001b[0m\u001b[0mmax\u001b[0m\u001b[0;34m(\u001b[0m\u001b[0;34m)\u001b[0m\u001b[0;34m]\u001b[0m\u001b[0;34m)\u001b[0m\u001b[0;34m\u001b[0m\u001b[0;34m\u001b[0m\u001b[0m\n",
      "\u001b[0;31mModuleNotFoundError\u001b[0m: No module named 'pygeodesy'"
     ]
    }
   ],
   "source": [
    "from pygeodesy.ellipsoidalVincenty import LatLon, Cartesian # Package used to tranform cartesian coordinate into geographic coordinate\n",
    "\n",
    "hw_pos = [-2507270,-4652320,3558770] # Hollywood position used as georeference\n",
    "df_min = np.array(df.loc[df['depth'] == df['depth'].min()])\n",
    "df_max = np.array(df.loc[df['depth'] == df['depth'].max()])\n",
    "\n",
    "pos_min = Cartesian(df_min[0,-3],df_min[0,-2],df_min[0,-1]).toLatLon()\n",
    "pos_max = Cartesian(df_max[0,-3],df_max[0,-2],df_max[0,-1]).toLatLon()\n",
    "pos_hollywood = Cartesian(hw_pos[0],hw_pos[1],hw_pos[2]).toLatLon()\n",
    "\n",
    "\n",
    "d = np.empty(df.shape[0], object)\n",
    "\n",
    "for i in range(d.shape[0]):\n",
    "    d[i] = Cartesian(np.array(df.iloc[i,-3]), np.array(df.iloc[i,-2]), np.array(df.iloc[i,-1])).toLatLon()\n",
    "\n",
    "print(\"Position of shallowest earthquake: \", pos_max)\n",
    "print(\"Position of deepest earthquake: \", pos_min)\n",
    "print(\"Position of Hollywood: \", pos_hollywood)"
   ]
  },
  {
   "cell_type": "code",
   "execution_count": null,
   "metadata": {},
   "outputs": [],
   "source": [
    "print(d)"
   ]
  },
  {
   "cell_type": "code",
   "execution_count": null,
   "metadata": {},
   "outputs": [],
   "source": [
    "# Plot of all earthquakes with Hollywood reference\n",
    "plt.plot(df['latitude'],df['longitude'],'.')\n",
    "plt.plot(-2507270,-4652320,'o')\n",
    "plt.show()"
   ]
  },
  {
   "cell_type": "code",
   "execution_count": null,
   "metadata": {},
   "outputs": [],
   "source": []
  },
  {
   "cell_type": "code",
   "execution_count": null,
   "metadata": {},
   "outputs": [],
   "source": [
    "m = np.linspace(2,7.3,32)\n",
    "number = []\n",
    "\n",
    "df = pd.read_table(\"SouthCalifornia-1982-2011_Physics-of-Data.dat\",sep=\" \")\n",
    "df = df.sort_values(by = ['time'])\n",
    "\n",
    "for i in m:    \n",
    "    df_red = df[df['magnitude'] >= i]\n",
    "    number.append(df_red.shape[0])\n",
    "\n",
    "fig, ax = plt.subplots(figsize=(10,10))\n",
    "\n",
    "plt.plot(m,number,'.')\n",
    "\n",
    "plt.xscale('log')\n",
    "#plt.yscale('log')"
   ]
  },
  {
   "cell_type": "code",
   "execution_count": null,
   "metadata": {},
   "outputs": [],
   "source": []
  },
  {
   "cell_type": "code",
   "execution_count": null,
   "metadata": {},
   "outputs": [],
   "source": []
  },
  {
   "cell_type": "code",
   "execution_count": null,
   "metadata": {},
   "outputs": [],
   "source": []
  },
  {
   "cell_type": "code",
   "execution_count": null,
   "metadata": {},
   "outputs": [],
   "source": []
  },
  {
   "cell_type": "code",
   "execution_count": null,
   "metadata": {},
   "outputs": [],
   "source": []
  },
  {
   "cell_type": "code",
   "execution_count": null,
   "metadata": {},
   "outputs": [],
   "source": []
  },
  {
   "cell_type": "code",
   "execution_count": null,
   "metadata": {},
   "outputs": [],
   "source": []
  },
  {
   "cell_type": "code",
   "execution_count": null,
   "metadata": {},
   "outputs": [],
   "source": []
  },
  {
   "cell_type": "code",
   "execution_count": null,
   "metadata": {},
   "outputs": [],
   "source": []
  },
  {
   "cell_type": "code",
   "execution_count": null,
   "metadata": {},
   "outputs": [],
   "source": []
  },
  {
   "cell_type": "code",
   "execution_count": 5,
   "metadata": {},
   "outputs": [],
   "source": [
    "import pandas as pd\n",
    "import numpy as np\n",
    "import matplotlib.pyplot as plt\n",
    "%matplotlib inline\n",
    "from mpl_toolkits.basemap import Basemap\n",
    "import matplotlib.animation as animation\n",
    "from IPython.display import HTML"
   ]
  },
  {
   "cell_type": "code",
   "execution_count": 6,
   "metadata": {},
   "outputs": [],
   "source": [
    "df = pd.read_table(\"SouthCalifornia-1982-2011_Physics-of-Data.dat\",sep=\" \")\n",
    "df = df.sort_values(by = ['time'])"
   ]
  },
  {
   "cell_type": "code",
   "execution_count": 5,
   "metadata": {},
   "outputs": [],
   "source": [
    "import math \n",
    "\n",
    "R = 6371005\n",
    "\n",
    "def xyz_to_latlon (x,y,z):\n",
    "    \"\"\"Convert cartesian to angular lat/lon coordiantes\"\"\"\n",
    "    r = math.sqrt(x**2 + y**2 + z**2)\n",
    "    rad = np.abs(r - R)\n",
    "    theta = math.asin(z/r) # https://stackoverflow.com/a/1185413/4933053\n",
    "    phi = math.atan2(y,x)\n",
    "    lat = math.degrees(theta)\n",
    "    lon = math.degrees(phi)\n",
    "    return lat, lon, rad\n",
    "\n",
    "lat = np.empty(df.shape[0], object)\n",
    "lon = np.empty(df.shape[0], object)\n",
    "rad = np.empty(df.shape[0], object)\n",
    "\n",
    "for i in range(df.shape[0]):\n",
    "    lat[i],lon[i],rad[i] = xyz_to_latlon(np.array(df.iloc[i,-3]), np.array(df.iloc[i,-2]), np.array(df.iloc[i,-1]))\n",
    "\n",
    "df['latitude'] = lat\n",
    "df['longitude'] = lon\n",
    "df['depth'] = rad "
   ]
  },
  {
   "cell_type": "code",
   "execution_count": 6,
   "metadata": {},
   "outputs": [
    {
     "ename": "KeyError",
     "evalue": "'time'",
     "output_type": "error",
     "traceback": [
      "\u001b[0;31m---------------------------------------------------------------------------\u001b[0m",
      "\u001b[0;31mKeyError\u001b[0m                                  Traceback (most recent call last)",
      "\u001b[0;32m~/opt/anaconda3/lib/python3.7/site-packages/pandas/core/indexes/base.py\u001b[0m in \u001b[0;36mget_loc\u001b[0;34m(self, key, method, tolerance)\u001b[0m\n\u001b[1;32m   2896\u001b[0m             \u001b[0;32mtry\u001b[0m\u001b[0;34m:\u001b[0m\u001b[0;34m\u001b[0m\u001b[0;34m\u001b[0m\u001b[0m\n\u001b[0;32m-> 2897\u001b[0;31m                 \u001b[0;32mreturn\u001b[0m \u001b[0mself\u001b[0m\u001b[0;34m.\u001b[0m\u001b[0m_engine\u001b[0m\u001b[0;34m.\u001b[0m\u001b[0mget_loc\u001b[0m\u001b[0;34m(\u001b[0m\u001b[0mkey\u001b[0m\u001b[0;34m)\u001b[0m\u001b[0;34m\u001b[0m\u001b[0;34m\u001b[0m\u001b[0m\n\u001b[0m\u001b[1;32m   2898\u001b[0m             \u001b[0;32mexcept\u001b[0m \u001b[0mKeyError\u001b[0m\u001b[0;34m:\u001b[0m\u001b[0;34m\u001b[0m\u001b[0;34m\u001b[0m\u001b[0m\n",
      "\u001b[0;32mpandas/_libs/index.pyx\u001b[0m in \u001b[0;36mpandas._libs.index.IndexEngine.get_loc\u001b[0;34m()\u001b[0m\n",
      "\u001b[0;32mpandas/_libs/index.pyx\u001b[0m in \u001b[0;36mpandas._libs.index.IndexEngine.get_loc\u001b[0;34m()\u001b[0m\n",
      "\u001b[0;32mpandas/_libs/hashtable_class_helper.pxi\u001b[0m in \u001b[0;36mpandas._libs.hashtable.PyObjectHashTable.get_item\u001b[0;34m()\u001b[0m\n",
      "\u001b[0;32mpandas/_libs/hashtable_class_helper.pxi\u001b[0m in \u001b[0;36mpandas._libs.hashtable.PyObjectHashTable.get_item\u001b[0;34m()\u001b[0m\n",
      "\u001b[0;31mKeyError\u001b[0m: 'time'",
      "\nDuring handling of the above exception, another exception occurred:\n",
      "\u001b[0;31mKeyError\u001b[0m                                  Traceback (most recent call last)",
      "\u001b[0;32m<ipython-input-6-1822e8efe535>\u001b[0m in \u001b[0;36m<module>\u001b[0;34m\u001b[0m\n\u001b[1;32m     13\u001b[0m \u001b[0;31m#datetime.datetime.now()\u001b[0m\u001b[0;34m\u001b[0m\u001b[0;34m\u001b[0m\u001b[0;34m\u001b[0m\u001b[0m\n\u001b[1;32m     14\u001b[0m \u001b[0;34m\u001b[0m\u001b[0m\n\u001b[0;32m---> 15\u001b[0;31m \u001b[0mdf\u001b[0m\u001b[0;34m[\u001b[0m\u001b[0;34m'total_second'\u001b[0m\u001b[0;34m]\u001b[0m \u001b[0;34m=\u001b[0m \u001b[0mdf\u001b[0m\u001b[0;34m[\u001b[0m\u001b[0;34m'time'\u001b[0m\u001b[0;34m]\u001b[0m \u001b[0;34m+\u001b[0m \u001b[0moffset\u001b[0m\u001b[0;34m\u001b[0m\u001b[0;34m\u001b[0m\u001b[0m\n\u001b[0m\u001b[1;32m     16\u001b[0m \u001b[0;34m\u001b[0m\u001b[0m\n\u001b[1;32m     17\u001b[0m \u001b[0;31m#df['year'] = datetime.datetime.fromtimestamp( df['total_second'] ).year\u001b[0m\u001b[0;34m\u001b[0m\u001b[0;34m\u001b[0m\u001b[0;34m\u001b[0m\u001b[0m\n",
      "\u001b[0;32m~/opt/anaconda3/lib/python3.7/site-packages/pandas/core/frame.py\u001b[0m in \u001b[0;36m__getitem__\u001b[0;34m(self, key)\u001b[0m\n\u001b[1;32m   2978\u001b[0m             \u001b[0;32mif\u001b[0m \u001b[0mself\u001b[0m\u001b[0;34m.\u001b[0m\u001b[0mcolumns\u001b[0m\u001b[0;34m.\u001b[0m\u001b[0mnlevels\u001b[0m \u001b[0;34m>\u001b[0m \u001b[0;36m1\u001b[0m\u001b[0;34m:\u001b[0m\u001b[0;34m\u001b[0m\u001b[0;34m\u001b[0m\u001b[0m\n\u001b[1;32m   2979\u001b[0m                 \u001b[0;32mreturn\u001b[0m \u001b[0mself\u001b[0m\u001b[0;34m.\u001b[0m\u001b[0m_getitem_multilevel\u001b[0m\u001b[0;34m(\u001b[0m\u001b[0mkey\u001b[0m\u001b[0;34m)\u001b[0m\u001b[0;34m\u001b[0m\u001b[0;34m\u001b[0m\u001b[0m\n\u001b[0;32m-> 2980\u001b[0;31m             \u001b[0mindexer\u001b[0m \u001b[0;34m=\u001b[0m \u001b[0mself\u001b[0m\u001b[0;34m.\u001b[0m\u001b[0mcolumns\u001b[0m\u001b[0;34m.\u001b[0m\u001b[0mget_loc\u001b[0m\u001b[0;34m(\u001b[0m\u001b[0mkey\u001b[0m\u001b[0;34m)\u001b[0m\u001b[0;34m\u001b[0m\u001b[0;34m\u001b[0m\u001b[0m\n\u001b[0m\u001b[1;32m   2981\u001b[0m             \u001b[0;32mif\u001b[0m \u001b[0mis_integer\u001b[0m\u001b[0;34m(\u001b[0m\u001b[0mindexer\u001b[0m\u001b[0;34m)\u001b[0m\u001b[0;34m:\u001b[0m\u001b[0;34m\u001b[0m\u001b[0;34m\u001b[0m\u001b[0m\n\u001b[1;32m   2982\u001b[0m                 \u001b[0mindexer\u001b[0m \u001b[0;34m=\u001b[0m \u001b[0;34m[\u001b[0m\u001b[0mindexer\u001b[0m\u001b[0;34m]\u001b[0m\u001b[0;34m\u001b[0m\u001b[0;34m\u001b[0m\u001b[0m\n",
      "\u001b[0;32m~/opt/anaconda3/lib/python3.7/site-packages/pandas/core/indexes/base.py\u001b[0m in \u001b[0;36mget_loc\u001b[0;34m(self, key, method, tolerance)\u001b[0m\n\u001b[1;32m   2897\u001b[0m                 \u001b[0;32mreturn\u001b[0m \u001b[0mself\u001b[0m\u001b[0;34m.\u001b[0m\u001b[0m_engine\u001b[0m\u001b[0;34m.\u001b[0m\u001b[0mget_loc\u001b[0m\u001b[0;34m(\u001b[0m\u001b[0mkey\u001b[0m\u001b[0;34m)\u001b[0m\u001b[0;34m\u001b[0m\u001b[0;34m\u001b[0m\u001b[0m\n\u001b[1;32m   2898\u001b[0m             \u001b[0;32mexcept\u001b[0m \u001b[0mKeyError\u001b[0m\u001b[0;34m:\u001b[0m\u001b[0;34m\u001b[0m\u001b[0;34m\u001b[0m\u001b[0m\n\u001b[0;32m-> 2899\u001b[0;31m                 \u001b[0;32mreturn\u001b[0m \u001b[0mself\u001b[0m\u001b[0;34m.\u001b[0m\u001b[0m_engine\u001b[0m\u001b[0;34m.\u001b[0m\u001b[0mget_loc\u001b[0m\u001b[0;34m(\u001b[0m\u001b[0mself\u001b[0m\u001b[0;34m.\u001b[0m\u001b[0m_maybe_cast_indexer\u001b[0m\u001b[0;34m(\u001b[0m\u001b[0mkey\u001b[0m\u001b[0;34m)\u001b[0m\u001b[0;34m)\u001b[0m\u001b[0;34m\u001b[0m\u001b[0;34m\u001b[0m\u001b[0m\n\u001b[0m\u001b[1;32m   2900\u001b[0m         \u001b[0mindexer\u001b[0m \u001b[0;34m=\u001b[0m \u001b[0mself\u001b[0m\u001b[0;34m.\u001b[0m\u001b[0mget_indexer\u001b[0m\u001b[0;34m(\u001b[0m\u001b[0;34m[\u001b[0m\u001b[0mkey\u001b[0m\u001b[0;34m]\u001b[0m\u001b[0;34m,\u001b[0m \u001b[0mmethod\u001b[0m\u001b[0;34m=\u001b[0m\u001b[0mmethod\u001b[0m\u001b[0;34m,\u001b[0m \u001b[0mtolerance\u001b[0m\u001b[0;34m=\u001b[0m\u001b[0mtolerance\u001b[0m\u001b[0;34m)\u001b[0m\u001b[0;34m\u001b[0m\u001b[0;34m\u001b[0m\u001b[0m\n\u001b[1;32m   2901\u001b[0m         \u001b[0;32mif\u001b[0m \u001b[0mindexer\u001b[0m\u001b[0;34m.\u001b[0m\u001b[0mndim\u001b[0m \u001b[0;34m>\u001b[0m \u001b[0;36m1\u001b[0m \u001b[0;32mor\u001b[0m \u001b[0mindexer\u001b[0m\u001b[0;34m.\u001b[0m\u001b[0msize\u001b[0m \u001b[0;34m>\u001b[0m \u001b[0;36m1\u001b[0m\u001b[0;34m:\u001b[0m\u001b[0;34m\u001b[0m\u001b[0;34m\u001b[0m\u001b[0m\n",
      "\u001b[0;32mpandas/_libs/index.pyx\u001b[0m in \u001b[0;36mpandas._libs.index.IndexEngine.get_loc\u001b[0;34m()\u001b[0m\n",
      "\u001b[0;32mpandas/_libs/index.pyx\u001b[0m in \u001b[0;36mpandas._libs.index.IndexEngine.get_loc\u001b[0;34m()\u001b[0m\n",
      "\u001b[0;32mpandas/_libs/hashtable_class_helper.pxi\u001b[0m in \u001b[0;36mpandas._libs.hashtable.PyObjectHashTable.get_item\u001b[0;34m()\u001b[0m\n",
      "\u001b[0;32mpandas/_libs/hashtable_class_helper.pxi\u001b[0m in \u001b[0;36mpandas._libs.hashtable.PyObjectHashTable.get_item\u001b[0;34m()\u001b[0m\n",
      "\u001b[0;31mKeyError\u001b[0m: 'time'"
     ]
    }
   ],
   "source": [
    "import datetime\n",
    "import time\n",
    "\n",
    "#datetime.datetime.today()\n",
    "#datetime.datetime.fromtimestamp(time.time())\n",
    "\n",
    "#offset = datetime.datetime.fromisoformat('1982-01-01').strftime('%s') #.ctime()\n",
    "\n",
    "offset = (datetime.datetime.fromisoformat('1982-01-01') - datetime.datetime.fromisoformat('1970-01-01')).total_seconds() \n",
    "\n",
    "#x = (datetime.datetime.fromisoformat('1987-01-01') - datetime.datetime.fromisoformat('1982-01-01')).total_seconds() + offset\n",
    "#y = float( datetime.datetime.fromtimestamp(x).year )\n",
    "#datetime.datetime.now()\n",
    "\n",
    "df['total_second'] = df['time'] + offset \n",
    "\n",
    "#df['year'] = datetime.datetime.fromtimestamp( df['total_second'] ).year \n",
    "\n",
    "y = np.empty(df['time'].values.shape[0], int)\n",
    "\n",
    "for i in range(df['time'].values.shape[0]):\n",
    "    y[i] = datetime.datetime.fromtimestamp( df['total_second'].values[i] ).year \n",
    "\n",
    "df['year'] = y\n",
    "m=3\n",
    "df = df[df['magnitude']>m]"
   ]
  },
  {
   "cell_type": "code",
   "execution_count": 9,
   "metadata": {},
   "outputs": [
    {
     "data": {
      "text/html": [
       "<div>\n",
       "<style scoped>\n",
       "    .dataframe tbody tr th:only-of-type {\n",
       "        vertical-align: middle;\n",
       "    }\n",
       "\n",
       "    .dataframe tbody tr th {\n",
       "        vertical-align: top;\n",
       "    }\n",
       "\n",
       "    .dataframe thead th {\n",
       "        text-align: right;\n",
       "    }\n",
       "</style>\n",
       "<table border=\"1\" class=\"dataframe\">\n",
       "  <thead>\n",
       "    <tr style=\"text-align: right;\">\n",
       "      <th></th>\n",
       "      <th>index</th>\n",
       "      <th>trigger</th>\n",
       "      <th>time</th>\n",
       "      <th>magnitude</th>\n",
       "      <th>latitude</th>\n",
       "      <th>longitude</th>\n",
       "      <th>depth</th>\n",
       "      <th>total_second</th>\n",
       "      <th>year</th>\n",
       "    </tr>\n",
       "  </thead>\n",
       "  <tbody>\n",
       "    <tr>\n",
       "      <td>50</td>\n",
       "      <td>50</td>\n",
       "      <td>0</td>\n",
       "      <td>8.945939e+05</td>\n",
       "      <td>3.09</td>\n",
       "      <td>34.7845</td>\n",
       "      <td>-120.941</td>\n",
       "      <td>19665.1</td>\n",
       "      <td>3.795858e+08</td>\n",
       "      <td>1982</td>\n",
       "    </tr>\n",
       "    <tr>\n",
       "      <td>83</td>\n",
       "      <td>83</td>\n",
       "      <td>0</td>\n",
       "      <td>1.367108e+06</td>\n",
       "      <td>3.03</td>\n",
       "      <td>35.7795</td>\n",
       "      <td>-120.971</td>\n",
       "      <td>17174.7</td>\n",
       "      <td>3.800583e+08</td>\n",
       "      <td>1982</td>\n",
       "    </tr>\n",
       "    <tr>\n",
       "      <td>102</td>\n",
       "      <td>102</td>\n",
       "      <td>0</td>\n",
       "      <td>1.593043e+06</td>\n",
       "      <td>3.03</td>\n",
       "      <td>34.2649</td>\n",
       "      <td>-119.643</td>\n",
       "      <td>8826.37</td>\n",
       "      <td>3.802842e+08</td>\n",
       "      <td>1982</td>\n",
       "    </tr>\n",
       "    <tr>\n",
       "      <td>113</td>\n",
       "      <td>113</td>\n",
       "      <td>0</td>\n",
       "      <td>1.813600e+06</td>\n",
       "      <td>3.04</td>\n",
       "      <td>37.495</td>\n",
       "      <td>-119.409</td>\n",
       "      <td>9704.87</td>\n",
       "      <td>3.805048e+08</td>\n",
       "      <td>1982</td>\n",
       "    </tr>\n",
       "    <tr>\n",
       "      <td>121</td>\n",
       "      <td>121</td>\n",
       "      <td>0</td>\n",
       "      <td>1.916778e+06</td>\n",
       "      <td>3.92</td>\n",
       "      <td>37.4113</td>\n",
       "      <td>-117.903</td>\n",
       "      <td>16325.2</td>\n",
       "      <td>3.806080e+08</td>\n",
       "      <td>1982</td>\n",
       "    </tr>\n",
       "    <tr>\n",
       "      <td>...</td>\n",
       "      <td>...</td>\n",
       "      <td>...</td>\n",
       "      <td>...</td>\n",
       "      <td>...</td>\n",
       "      <td>...</td>\n",
       "      <td>...</td>\n",
       "      <td>...</td>\n",
       "      <td>...</td>\n",
       "      <td>...</td>\n",
       "    </tr>\n",
       "    <tr>\n",
       "      <td>110235</td>\n",
       "      <td>110235</td>\n",
       "      <td>-1</td>\n",
       "      <td>9.298340e+08</td>\n",
       "      <td>3.42</td>\n",
       "      <td>31.898</td>\n",
       "      <td>-114.932</td>\n",
       "      <td>11215.3</td>\n",
       "      <td>1.308525e+09</td>\n",
       "      <td>2011</td>\n",
       "    </tr>\n",
       "    <tr>\n",
       "      <td>110245</td>\n",
       "      <td>110245</td>\n",
       "      <td>-1</td>\n",
       "      <td>9.301223e+08</td>\n",
       "      <td>3.27</td>\n",
       "      <td>35.9213</td>\n",
       "      <td>-117.741</td>\n",
       "      <td>9123.47</td>\n",
       "      <td>1.308814e+09</td>\n",
       "      <td>2011</td>\n",
       "    </tr>\n",
       "    <tr>\n",
       "      <td>110248</td>\n",
       "      <td>110248</td>\n",
       "      <td>110247</td>\n",
       "      <td>9.301739e+08</td>\n",
       "      <td>3.08</td>\n",
       "      <td>33.1642</td>\n",
       "      <td>-115.659</td>\n",
       "      <td>5686.93</td>\n",
       "      <td>1.308865e+09</td>\n",
       "      <td>2011</td>\n",
       "    </tr>\n",
       "    <tr>\n",
       "      <td>110249</td>\n",
       "      <td>110249</td>\n",
       "      <td>100065</td>\n",
       "      <td>9.301998e+08</td>\n",
       "      <td>3.17</td>\n",
       "      <td>32.3054</td>\n",
       "      <td>-115.332</td>\n",
       "      <td>12277.9</td>\n",
       "      <td>1.308891e+09</td>\n",
       "      <td>2011</td>\n",
       "    </tr>\n",
       "    <tr>\n",
       "      <td>110270</td>\n",
       "      <td>110270</td>\n",
       "      <td>-1</td>\n",
       "      <td>9.305667e+08</td>\n",
       "      <td>3.27</td>\n",
       "      <td>36.456</td>\n",
       "      <td>-120.327</td>\n",
       "      <td>19605.1</td>\n",
       "      <td>1.309258e+09</td>\n",
       "      <td>2011</td>\n",
       "    </tr>\n",
       "  </tbody>\n",
       "</table>\n",
       "<p>11458 rows × 9 columns</p>\n",
       "</div>"
      ],
      "text/plain": [
       "         index  trigger          time  magnitude latitude longitude    depth  \\\n",
       "50          50        0  8.945939e+05       3.09  34.7845  -120.941  19665.1   \n",
       "83          83        0  1.367108e+06       3.03  35.7795  -120.971  17174.7   \n",
       "102        102        0  1.593043e+06       3.03  34.2649  -119.643  8826.37   \n",
       "113        113        0  1.813600e+06       3.04   37.495  -119.409  9704.87   \n",
       "121        121        0  1.916778e+06       3.92  37.4113  -117.903  16325.2   \n",
       "...        ...      ...           ...        ...      ...       ...      ...   \n",
       "110235  110235       -1  9.298340e+08       3.42   31.898  -114.932  11215.3   \n",
       "110245  110245       -1  9.301223e+08       3.27  35.9213  -117.741  9123.47   \n",
       "110248  110248   110247  9.301739e+08       3.08  33.1642  -115.659  5686.93   \n",
       "110249  110249   100065  9.301998e+08       3.17  32.3054  -115.332  12277.9   \n",
       "110270  110270       -1  9.305667e+08       3.27   36.456  -120.327  19605.1   \n",
       "\n",
       "        total_second  year  \n",
       "50      3.795858e+08  1982  \n",
       "83      3.800583e+08  1982  \n",
       "102     3.802842e+08  1982  \n",
       "113     3.805048e+08  1982  \n",
       "121     3.806080e+08  1982  \n",
       "...              ...   ...  \n",
       "110235  1.308525e+09  2011  \n",
       "110245  1.308814e+09  2011  \n",
       "110248  1.308865e+09  2011  \n",
       "110249  1.308891e+09  2011  \n",
       "110270  1.309258e+09  2011  \n",
       "\n",
       "[11458 rows x 9 columns]"
      ]
     },
     "execution_count": 9,
     "metadata": {},
     "output_type": "execute_result"
    }
   ],
   "source": [
    "df"
   ]
  },
  {
   "cell_type": "code",
   "execution_count": null,
   "metadata": {},
   "outputs": [],
   "source": [
    "#df_min = np.array(df.loc[df['depth'] == df['depth'].min()])\n",
    "#pos_min = xyz_to_latlon(df_min[0,-3],df_min[0,-2],df_min[0,-1])\n",
    "#print(pos_min)"
   ]
  },
  {
   "cell_type": "code",
   "execution_count": 7,
   "metadata": {},
   "outputs": [
    {
     "ename": "NameError",
     "evalue": "name 'Basemap' is not defined",
     "output_type": "error",
     "traceback": [
      "\u001b[0;31m---------------------------------------------------------------------------\u001b[0m",
      "\u001b[0;31mNameError\u001b[0m                                 Traceback (most recent call last)",
      "\u001b[0;32m<ipython-input-7-c2b3626e8d1e>\u001b[0m in \u001b[0;36m<module>\u001b[0;34m\u001b[0m\n\u001b[1;32m      1\u001b[0m \u001b[0mfig\u001b[0m \u001b[0;34m=\u001b[0m \u001b[0mplt\u001b[0m\u001b[0;34m.\u001b[0m\u001b[0mfigure\u001b[0m\u001b[0;34m(\u001b[0m\u001b[0mfigsize\u001b[0m\u001b[0;34m=\u001b[0m\u001b[0;34m(\u001b[0m\u001b[0;36m10\u001b[0m\u001b[0;34m,\u001b[0m \u001b[0;36m10\u001b[0m\u001b[0;34m)\u001b[0m\u001b[0;34m)\u001b[0m\u001b[0;34m\u001b[0m\u001b[0;34m\u001b[0m\u001b[0m\n\u001b[1;32m      2\u001b[0m \u001b[0;31m#fig.text(.8, .3, 'Soumitra', ha='right')\u001b[0m\u001b[0;34m\u001b[0m\u001b[0;34m\u001b[0m\u001b[0;34m\u001b[0m\u001b[0m\n\u001b[0;32m----> 3\u001b[0;31m \u001b[0mm\u001b[0m \u001b[0;34m=\u001b[0m \u001b[0mBasemap\u001b[0m\u001b[0;34m(\u001b[0m\u001b[0mprojection\u001b[0m\u001b[0;34m=\u001b[0m\u001b[0;34m'mill'\u001b[0m\u001b[0;34m,\u001b[0m\u001b[0mllcrnrlon\u001b[0m\u001b[0;34m=\u001b[0m\u001b[0;34m-\u001b[0m\u001b[0;36m125.97\u001b[0m \u001b[0;34m,\u001b[0m \u001b[0mllcrnrlat\u001b[0m\u001b[0;34m=\u001b[0m\u001b[0;36m28.62\u001b[0m\u001b[0;34m,\u001b[0m \u001b[0murcrnrlon\u001b[0m\u001b[0;34m=\u001b[0m\u001b[0;34m-\u001b[0m\u001b[0;36m111.95\u001b[0m\u001b[0;34m,\u001b[0m \u001b[0murcrnrlat\u001b[0m\u001b[0;34m=\u001b[0m\u001b[0;36m38.41\u001b[0m\u001b[0;34m,\u001b[0m\u001b[0mresolution\u001b[0m\u001b[0;34m=\u001b[0m\u001b[0;34m'c'\u001b[0m\u001b[0;34m)\u001b[0m\u001b[0;34m\u001b[0m\u001b[0;34m\u001b[0m\u001b[0m\n\u001b[0m\u001b[1;32m      4\u001b[0m \u001b[0;34m\u001b[0m\u001b[0m\n\u001b[1;32m      5\u001b[0m \u001b[0;31m#m.drawcoastlines()\u001b[0m\u001b[0;34m\u001b[0m\u001b[0;34m\u001b[0m\u001b[0;34m\u001b[0m\u001b[0m\n",
      "\u001b[0;31mNameError\u001b[0m: name 'Basemap' is not defined"
     ]
    },
    {
     "data": {
      "text/plain": [
       "<Figure size 720x720 with 0 Axes>"
      ]
     },
     "metadata": {},
     "output_type": "display_data"
    }
   ],
   "source": [
    "fig = plt.figure(figsize=(10, 10))\n",
    "#fig.text(.8, .3, 'Soumitra', ha='right')\n",
    "m = Basemap(projection='mill',llcrnrlon=-125.97 , llcrnrlat=28.62, urcrnrlon=-111.95, urcrnrlat=38.41,resolution='c')\n",
    "\n",
    "#m.drawcoastlines()\n",
    "m.drawcountries()\n",
    "#m.fillcontinents(color='white',lake_color='lightblue', zorder = 1)\n",
    "#m.drawmapboundary(fill_color='lightblue')\n",
    "m.shadedrelief()\n",
    "\n",
    "START_YEAR = 1982\n",
    "LAST_YEAR = 2011\n",
    "\n",
    "points = df[df['year']==START_YEAR]\n",
    "\n",
    "x, y = m(list(points['longitude']), list(points['latitude']))\n",
    "\n",
    "mag = list( (np.exp(1.15*points['magnitude'])) )\n",
    "\n",
    "color = list(points['depth'])\n",
    "\n",
    "scat = m.scatter(x, y, s = mag,  marker='o', alpha=0.5, c = color, cmap = 'hot')  #s = points['magnitude']*points['depth']*0.3, marker='o', alpha=0.3, zorder=10, cmap = cmap)\n",
    "\n",
    "year_text = plt.text(-170, 80, str(START_YEAR),fontsize=30)\n",
    "\n",
    "plt.title(\"Earthquake visualisation (1982 - 2011)\")\n",
    "\n",
    "for magn in [2, 3, 4, 5, 6]:\n",
    "    plt.scatter([], [], c='k', alpha=0.5, s=np.exp(1.15*magn),\n",
    "                label=str(magn))\n",
    "    \n",
    "plt.legend(scatterpoints=1, frameon=False, labelspacing=2, title='Magnitude', loc=\"upper left\")\n",
    "\n",
    "plt.colorbar(scat,label = 'depth')\n",
    "plt.clim(100000,120000)\n",
    "\n",
    "plt.axis(aspect='equal')\n",
    "plt.xlabel('longitude')\n",
    "plt.ylabel('latitude')\n",
    "plt.close()\n",
    "\n",
    "def update(frame_number):\n",
    "    \n",
    "    current_year = START_YEAR + (frame_number % (LAST_YEAR - START_YEAR ))\n",
    "    \n",
    "    year_text.set_text(str(current_year))\n",
    "    points = df[df['year']==current_year]\n",
    "    \n",
    "    x, y = m(list(points['longitude']), list(points['latitude'])) \n",
    "    mag = list( (np.exp(1.15*points['magnitude'])) )\n",
    "    color = list( points['depth'] )\n",
    "    \n",
    "    #print(color)\n",
    "    #print('\\ ')\n",
    "    scat.set_offsets(np.c_[x,y]) #np.dstack((x, y)))\n",
    "    scat.set_cmap('hot')\n",
    "    #scat.set_array(color)\n",
    "    scat.set_sizes(mag)\n",
    "    \n",
    "    \n",
    "ani = animation.FuncAnimation(fig, update, interval=100, frames=LAST_YEAR - START_YEAR)\n",
    "\n",
    "ani.save('animation.gif', writer='imagemagick', fps=1)    \n",
    "\n",
    "\n",
    "\n",
    "import io\n",
    "import base64\n",
    "\n",
    "filename = 'animation.gif'\n",
    "\n",
    "video = io.open(filename, 'r+b').read()\n",
    "encoded = base64.b64encode(video)\n",
    "HTML(data='''<img src=\"data:image/gif;base64,{0}\" type=\"gif\" />'''.format(encoded.decode('ascii')))"
   ]
  },
  {
   "cell_type": "code",
   "execution_count": null,
   "metadata": {},
   "outputs": [],
   "source": []
  }
 ],
 "metadata": {
  "kernelspec": {
   "display_name": "Python 3",
   "language": "python",
   "name": "python3"
  },
  "language_info": {
   "codemirror_mode": {
    "name": "ipython",
    "version": 3
   },
   "file_extension": ".py",
   "mimetype": "text/x-python",
   "name": "python",
   "nbconvert_exporter": "python",
   "pygments_lexer": "ipython3",
   "version": "3.7.4"
  }
 },
 "nbformat": 4,
 "nbformat_minor": 4
}
